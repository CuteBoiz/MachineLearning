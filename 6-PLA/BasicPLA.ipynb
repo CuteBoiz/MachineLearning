{
 "cells": [
  {
   "cell_type": "markdown",
   "metadata": {},
   "source": [
    "# Perceptron Learning Algorithm"
   ]
  },
  {
   "cell_type": "markdown",
   "metadata": {},
   "source": [
    "**1 .Perceptron:**\n",
    "    \n",
    "$$ \\hat{y} = sgn(Xw) $$\n",
    "\n",
    "**2. Loss Function: (Miss classifier loss function):**\n",
    "\n",
    "$$ Miss classifier = -y*\\hat{y} $$\n",
    "\n",
    "$$ \\Leftrightarrow L(w) = \\sum_{x_{i}\\in M}-y_{i}*sgn(x_{i}w) $$\n",
    "\n",
    "*The key is find **w** so that **L(w) = 0**. It means no miss classifier.*\n",
    "\n",
    "$$ \\Rightarrow L(w) = \\sum_{x_{i}\\in M}-y_{i}*(x_{i}w) $$\n",
    "\n",
    "**3. Optimizer**\n",
    "\n",
    "$$ L(w;x_{i};y_{i}) = -y_{i}wx_{i} $$\n",
    "\n",
    "$$ \\triangledown_{w} L(w;x_{i};y_{i}) = -y{i}x_{i} $$"
   ]
  },
  {
   "cell_type": "code",
   "execution_count": 1,
   "metadata": {},
   "outputs": [],
   "source": [
    "def PLA(w, X):\n",
    "    return np.sign(X.dot(w))\n",
    "\n",
    "def PLA_loss(w, X, y):\n",
    "    return -y.dot(X.dot(w))\n",
    "\n",
    "def PLA_grad(w, X, y):\n",
    "    return -y.dot(X)\n",
    "\n",
    "def PLA_BGD(w_init, X, y, lr=0.1, n_epoches=100):\n",
    "    w = w_init\n",
    "    loss_hist = []\n",
    "    N = X.shape[0]\n",
    "    ep = 0\n",
    "    while ep < n_epoches:\n",
    "        ep += 1\n",
    "        y_pred = PLA(w, X)\n",
    "        \n",
    "        miss_idxs = np.where(np.equal(y_pred, y) == False)[0]\n",
    "        num_miss = miss_idxs.shape[0]\n",
    "        if num_miss == 0:\n",
    "            break\n",
    "        random_id = np.random.choice(miss_idxs, 1)[0]\n",
    "        w = w + y[random_id]*X[random_id]\n",
    "        loss_hist.append(PLA_loss(w, X, y))\n",
    "    return w, loss_hist\n",
    "        \n",
    "    "
   ]
  },
  {
   "cell_type": "markdown",
   "metadata": {},
   "source": [
    "## 1. Create Dataset"
   ]
  },
  {
   "cell_type": "code",
   "execution_count": 2,
   "metadata": {},
   "outputs": [
    {
     "data": {
      "image/png": "[encoded data removed]",
      "text/plain": [
       "<Figure size 432x288 with 1 Axes>"
      ]
     },
     "metadata": {},
     "output_type": "display_data"
    }
   ],
   "source": [
    "import numpy as np \n",
    "import matplotlib.pyplot as plt\n",
    "\n",
    "\n",
    "np.random.seed(22)\n",
    "\n",
    "means = [[-1, 0], [1, 0]]\n",
    "cov = [[.3, .2], [.2, .3]]\n",
    "N = 10\n",
    "X0 = np.random.multivariate_normal(means[0], cov, N)\n",
    "X1 = np.random.multivariate_normal(means[1], cov, N)\n",
    "\n",
    "\n",
    "plt.plot(X0[:, 0], X0[:, 1], 'bs', markersize = 8)\n",
    "plt.plot(X1[:, 0], X1[:, 1], 'ro', markersize = 8)\n",
    "plt.axis('equal')\n",
    "\n",
    "plt.xlabel('$x_1$', fontsize = 15)\n",
    "plt.ylabel('$x_2$', fontsize = 15)\n",
    "\n",
    "cur_axes = plt.gca() #get current axes\n",
    "cur_axes.axes.get_xaxis().set_ticks([])\n",
    "cur_axes.axes.get_yaxis().set_ticks([])\n",
    "\n",
    "\n",
    "plt.show()"
   ]
  },
  {
   "cell_type": "markdown",
   "metadata": {},
   "source": [
    "## 2. PLA"
   ]
  },
  {
   "cell_type": "code",
   "execution_count": 3,
   "metadata": {},
   "outputs": [
    {
     "data": {
      "text/plain": [
       "array([-0.40507155, -2.29089551,  0.2583287 ])"
      ]
     },
     "execution_count": 3,
     "metadata": {},
     "output_type": "execute_result"
    }
   ],
   "source": [
    "X = np.concatenate((X0, X1), axis = 0)\n",
    "Xbar = np.concatenate((np.ones((X.shape[0], 1)), X), axis = 1)\n",
    "y = np.concatenate((np.ones(N), -1*np.ones(N)), axis = 0)\n",
    "\n",
    "w_init = np.random.randn(Xbar.shape[1])\n",
    "w1, loss1 = PLA_BGD(w_init, Xbar, y)\n",
    "w1"
   ]
  },
  {
   "cell_type": "markdown",
   "metadata": {},
   "source": [
    "## 3. Draw Result"
   ]
  },
  {
   "cell_type": "code",
   "execution_count": 4,
   "metadata": {},
   "outputs": [
    {
     "data": {
      "image/png": "[encoded data removed]",
      "text/plain": [
       "<Figure size 432x288 with 1 Axes>"
      ]
     },
     "metadata": {},
     "output_type": "display_data"
    }
   ],
   "source": [
    "plt.plot(X0[:, 0], X0[:, 1], 'bs', markersize = 8)\n",
    "plt.plot(X1[:, 0], X1[:, 1], 'ro', markersize = 8)\n",
    "plt.axis([-2 , 2, -2, 1])\n",
    "\n",
    "plt.xlabel('$x_1$', fontsize = 15)\n",
    "plt.ylabel('$x_2$', fontsize = 15)\n",
    "\n",
    "w_0, w_1, w_2 = w1[0], w1[1], w1[2]\n",
    "if w_2 != 0:\n",
    "    x11, x12 = -100, 100\n",
    "    plt.plot([x11, x12], [-(w_1*x11 + w_0)/w_2, -(w_1*x12 + w_0)/w_2], 'k')\n",
    "else:\n",
    "    x10 = -w_0/w_1\n",
    "    plt.plot([x10, x10], [-100, 100], 'k')\n",
    "\n",
    "cur_axes = plt.gca() #get current axes\n",
    "cur_axes.axes.get_xaxis().set_ticks([])\n",
    "cur_axes.axes.get_yaxis().set_ticks([])\n",
    "\n",
    "\n",
    "plt.show()"
   ]
  },
  {
   "cell_type": "code",
   "execution_count": 5,
   "metadata": {},
   "outputs": [
    {
     "data": {
      "image/png": "[encoded data removed]",
      "text/plain": [
       "<Figure size 432x288 with 1 Axes>"
      ]
     },
     "metadata": {
      "needs_background": "light"
     },
     "output_type": "display_data"
    }
   ],
   "source": [
    "plt.plot(loss1)\n",
    "plt.show()"
   ]
  },
  {
   "cell_type": "code",
   "execution_count": null,
   "metadata": {},
   "outputs": [],
   "source": []
  }
 ],
 "metadata": {
  "kernelspec": {
   "display_name": "Python 3",
   "language": "python",
   "name": "python3"
  },
  "language_info": {
   "codemirror_mode": {
    "name": "ipython",
    "version": 3
   },
   "file_extension": ".py",
   "mimetype": "text/x-python",
   "name": "python",
   "nbconvert_exporter": "python",
   "pygments_lexer": "ipython3",
   "version": "3.8.5"
  }
 },
 "nbformat": 4,
 "nbformat_minor": 4
}
