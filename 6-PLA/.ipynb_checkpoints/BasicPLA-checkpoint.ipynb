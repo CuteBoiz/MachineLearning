{
 "cells": [
  {
   "cell_type": "markdown",
   "metadata": {},
   "source": [
    "# Perceptron Learning Algorithm"
   ]
  },
  {
   "cell_type": "markdown",
   "metadata": {},
   "source": [
    "## 1. Create Dataset"
   ]
  },
  {
   "cell_type": "code",
   "execution_count": 4,
   "metadata": {},
   "outputs": [
    {
     "data": {
      "image/png": "[encoded data removed]",
      "text/plain": [
       "<Figure size 432x288 with 1 Axes>"
      ]
     },
     "metadata": {},
     "output_type": "display_data"
    }
   ],
   "source": [
    "import numpy as np \n",
    "import matplotlib.pyplot as plt\n",
    "\n",
    "\n",
    "np.random.seed(22)\n",
    "\n",
    "means = [[-1, 0], [1, 0]]\n",
    "cov = [[.3, .2], [.2, .3]]\n",
    "N = 10\n",
    "X0 = np.random.multivariate_normal(means[0], cov, N)\n",
    "X1 = np.random.multivariate_normal(means[1], cov, N)\n",
    "\n",
    "\n",
    "plt.plot(X0[:, 0], X0[:, 1], 'bs', markersize = 8)\n",
    "plt.plot(X1[:, 0], X1[:, 1], 'ro', markersize = 8)\n",
    "plt.axis('equal')\n",
    "\n",
    "plt.xlabel('$x_1$', fontsize = 15)\n",
    "plt.ylabel('$x_2$', fontsize = 15)\n",
    "\n",
    "cur_axes = plt.gca() #get current axes\n",
    "cur_axes.axes.get_xaxis().set_ticks([])\n",
    "cur_axes.axes.get_yaxis().set_ticks([])\n",
    "\n",
    "\n",
    "plt.show()"
   ]
  },
  {
   "cell_type": "markdown",
   "metadata": {},
   "source": [
    "## 2. Optimize Loss Function"
   ]
  },
  {
   "cell_type": "markdown",
   "metadata": {},
   "source": [
    "    label(x) = 1  if w.T * x >= 0\n",
    "             = -1 if w.T * x < 0\n",
    "    label(x) = sgn(w.T * x)\n",
    "    miss classified loss function:\n",
    "        J(w) = (-y * sgn(w.T * x))  ##sign only\n",
    "     => J(w) = (-y * w.T * x)       ##include distance\n",
    " \n",
    "    Optimize: \n",
    "        dJ(w)/dw = -y * x\n",
    "     => w <- w - n(-y * x)\n",
    "     at PLA n = 1\n",
    "     \n",
    "   **=>w <- w + y * x**"
   ]
  },
  {
   "cell_type": "code",
   "execution_count": 5,
   "metadata": {},
   "outputs": [],
   "source": [
    "def predict(w, X):\n",
    "    return np.sign(X.dot(w))\n",
    "\n",
    "def PLA(X, y, w_init):\n",
    "    w = [w_init]\n",
    "    for it in range(10000):\n",
    "        pred = predict(w[-1], X)\n",
    "        mis_idxs = np.where(np.equal(pred, y) == False)[0] #find indexes of missclassified\n",
    "        num_miss = mis_idxs.shape[0]\n",
    "        if num_miss == 0:\n",
    "            break\n",
    "        random_id = np.random.choice(mis_idxs, 1)[0]\n",
    "        w_new = w[-1] + y[random_id]*X[random_id]\n",
    "        w.append(w_new)\n",
    "    return w, it     "
   ]
  },
  {
   "cell_type": "code",
   "execution_count": 8,
   "metadata": {},
   "outputs": [
    {
     "data": {
      "text/plain": [
       "4"
      ]
     },
     "execution_count": 8,
     "metadata": {},
     "output_type": "execute_result"
    }
   ],
   "source": [
    "X = np.concatenate((X0, X1), axis = 0)\n",
    "Xbar = np.concatenate((np.ones((X.shape[0], 1)), X), axis = 1)\n",
    "y = np.concatenate((np.ones(N), -1*np.ones(N)), axis = 0)\n",
    "\n",
    "w_init = np.random.randn(Xbar.shape[1])\n",
    "w1, it1 = PLA(Xbar, y, w_init)\n",
    "it1"
   ]
  },
  {
   "cell_type": "markdown",
   "metadata": {},
   "source": [
    "## 3. Draw Result"
   ]
  },
  {
   "cell_type": "code",
   "execution_count": 21,
   "metadata": {},
   "outputs": [],
   "source": [
    "def draw_line(plt, w):\n",
    "    w0, w1, w2 = w[0], w[1], w[2]\n",
    "    if w2 != 0:\n",
    "        x11, x12 = -100, 100\n",
    "        return plt.plot([x11, x12], [-(w1*x11 + w0)/w2, -(w1*x12 + w0)/w2], 'k')\n",
    "    else:\n",
    "        x10 = -w0/w1\n",
    "        return plt.plot([x10, x10], [-100, 100], 'k')\n",
    "    \n",
    "def draw(X0, X1, w, ids, nrows = 2, ncols = 4):\n",
    "    width = 3*ncols\n",
    "    height = 3*nrows\n",
    "    fig,axs=plt.subplots(nrows, ncols, figsize=(width, height))\n",
    "    for i, k in enumerate(ids):\n",
    "        r = i//ncols\n",
    "        c = i%ncols\n",
    "\n",
    "        str0 = 'iter={}/{}'.format(ids[i], len(w) - 1)\n",
    "        #if nrows > 1:\n",
    "        axs[r, c].plot(X0[:, 0], X0[:, 1], 'bs', markersize = 5)\n",
    "        axs[r, c].plot(X1[:, 0], X1[:, 1], 'ro', markersize = 5)\n",
    "        axs[r, c].set_title(str0)\n",
    "        \n",
    "        draw_line(axs[r, c], w[k])\n",
    "        \n",
    "        axs[r, c].axis([-2 , 2, -2, 1])\n",
    "        axs[r, c].tick_params(left=False, bottom=False, labelleft=False, labelbottom=False)\n",
    "        axs[r, c].plot()\n",
    "\n",
    "    plt.show()"
   ]
  },
  {
   "cell_type": "code",
   "execution_count": 22,
   "metadata": {},
   "outputs": [
    {
     "data": {
      "image/png": "[encoded data removed]",
      "text/plain": [
       "<Figure size 648x432 with 6 Axes>"
      ]
     },
     "metadata": {
      "needs_background": "light"
     },
     "output_type": "display_data"
    }
   ],
   "source": [
    "ids = [0, 1, 2, 3, 4]\n",
    "draw(X0, X1, w1, ids, 2, 3)"
   ]
  },
  {
   "cell_type": "code",
   "execution_count": null,
   "metadata": {},
   "outputs": [],
   "source": []
  }
 ],
 "metadata": {
  "kernelspec": {
   "display_name": "Python 3",
   "language": "python",
   "name": "python3"
  },
  "language_info": {
   "codemirror_mode": {
    "name": "ipython",
    "version": 3
   },
   "file_extension": ".py",
   "mimetype": "text/x-python",
   "name": "python",
   "nbconvert_exporter": "python",
   "pygments_lexer": "ipython3",
   "version": "3.8.5"
  }
 },
 "nbformat": 4,
 "nbformat_minor": 4
}
