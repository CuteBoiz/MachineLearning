{
 "cells": [
  {
   "cell_type": "markdown",
   "metadata": {},
   "source": [
    "## 1. Stochastis Gradient Descent\n",
    "SGD dùng từng mẫu dữ liệu để cập nhật toàn bộ tham số :\n",
    "- Tính Feed forward \n",
    "- Tình loss\n",
    "- Tính đạo hàm cho từng tham số  \n",
    "- Cập nhật "
   ]
  },
  {
   "cell_type": "code",
   "execution_count": 2,
   "metadata": {},
   "outputs": [],
   "source": [
    "import numpy as np\n",
    "import matplotlib.pyplot as plt\n",
    "import pandas as pd"
   ]
  },
  {
   "cell_type": "code",
   "execution_count": 3,
   "metadata": {},
   "outputs": [
    {
     "data": {
      "image/png": "[encoded data removed]",
      "text/plain": [
       "<Figure size 432x288 with 1 Axes>"
      ]
     },
     "metadata": {
      "needs_background": "light"
     },
     "output_type": "display_data"
    }
   ],
   "source": [
    "data_file = '../data/LR1.csv'\n",
    "data = pd.read_csv(data_file)\n",
    "inputs, outputs = data.iloc[:, 0:1], data.iloc[:, 1]\n",
    "X, y = np.array(inputs.values), np.array(outputs.values)\n",
    "\n",
    "plt.scatter(X, y)\n",
    "plt.xlabel('Chiều cao (cm)')\n",
    "plt.ylabel('Cân Nặng (kg)')\n",
    "plt.show()"
   ]
  },
  {
   "cell_type": "code",
   "execution_count": 11,
   "metadata": {
    "scrolled": true
   },
   "outputs": [
    {
     "data": {
      "text/plain": [
       "array([[  1., 147.],\n",
       "       [  1., 150.],\n",
       "       [  1., 153.],\n",
       "       [  1., 158.],\n",
       "       [  1., 163.],\n",
       "       [  1., 165.],\n",
       "       [  1., 168.],\n",
       "       [  1., 170.],\n",
       "       [  1., 173.],\n",
       "       [  1., 175.],\n",
       "       [  1., 178.],\n",
       "       [  1., 180.],\n",
       "       [  1., 183.]])"
      ]
     },
     "execution_count": 11,
     "metadata": {},
     "output_type": "execute_result"
    }
   ],
   "source": [
    "Xbar = np.concatenate((np.ones((X.size, 1)), X), axis = 1)\n",
    "\n",
    "N = X.size"
   ]
  },
  {
   "cell_type": "code",
   "execution_count": 15,
   "metadata": {},
   "outputs": [
    {
     "ename": "IndentationError",
     "evalue": "unexpected indent (<ipython-input-15-3dc1a092c873>, line 9)",
     "output_type": "error",
     "traceback": [
      "\u001b[0;36m  File \u001b[0;32m\"<ipython-input-15-3dc1a092c873>\"\u001b[0;36m, line \u001b[0;32m9\u001b[0m\n\u001b[0;31m    for epoch in range(n_epochs):\u001b[0m\n\u001b[0m    ^\u001b[0m\n\u001b[0;31mIndentationError\u001b[0m\u001b[0;31m:\u001b[0m unexpected indent\n"
     ]
    }
   ],
   "source": [
    "def SGD():\n",
    "    n_epochs = 50\n",
    "    lr = 0.01\n",
    "    \n",
    "    thetas = np.random.randn(2, 1)\n",
    "    thetas_path = [thetas]\n",
    "    losses = []\n",
    "    \n",
    "    for epoch in range(n_epochs):\n",
    "        for i in range(N):\n",
    "            # lấy ngẫu nhiên 1 sample\n",
    "            random_index = np.random.randint(N)\n",
    "            xi = Xbar[random_index:random_index+1]\n",
    "            yi = y[random_index:random_index+1]\n",
    "            \n",
    "            # tính output (o = x1*w1 + x2*w2)\n",
    "            oi = xi.dot(thetas)\n",
    "            \n",
    "            # tính loss li [l = (output - y)^2]\n",
    "            li = (oi - yi)*(oi - yi)\n",
    "            \n",
    "            # tính gradient cho loss\n",
    "            g_li = 2*(oi - yi)\n",
    "            \n",
    "            # tính gradient (g_x1 = x1*g_li) và (g_x2 = x2*g_li)\n",
    "            gradients = xi.T.dot(g_li)\n",
    "                        \n",
    "            # update giá trị theta\n",
    "            thetas = thetas - learning_rate*gradients\n",
    "            \n",
    "            # logging\n",
    "            thetas_path.append(thetas)            \n",
    "            losses.append(li[0][0])\n",
    "    return thetas_path, losses\n",
    "\n",
    "bgd_thetas, losses = SGD()\n",
    "\n",
    "plt.scatter(X, y)\n",
    "x0 = np.linspace(start = 145, stop = 190, num = 20)\n",
    "y0 = x0*bgd_thetas[-1][1]+ bgd_thetas[-1][0]\n",
    "plt.plot(x0, y0, 'r')\n",
    "plt.show()           \n",
    "            "
   ]
  },
  {
   "cell_type": "code",
   "execution_count": null,
   "metadata": {},
   "outputs": [],
   "source": []
  }
 ],
 "metadata": {
  "kernelspec": {
   "display_name": "Python 3",
   "language": "python",
   "name": "python3"
  },
  "language_info": {
   "codemirror_mode": {
    "name": "ipython",
    "version": 3
   },
   "file_extension": ".py",
   "mimetype": "text/x-python",
   "name": "python",
   "nbconvert_exporter": "python",
   "pygments_lexer": "ipython3",
   "version": "3.8.5"
  }
 },
 "nbformat": 4,
 "nbformat_minor": 4
}
