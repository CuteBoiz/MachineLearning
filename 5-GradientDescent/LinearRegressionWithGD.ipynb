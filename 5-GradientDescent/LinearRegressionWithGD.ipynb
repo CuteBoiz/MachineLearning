{
 "cells": [
  {
   "cell_type": "markdown",
   "metadata": {},
   "source": [
    "# Linear Regression."
   ]
  },
  {
   "cell_type": "code",
   "execution_count": 1,
   "metadata": {},
   "outputs": [],
   "source": [
    "import numpy as np\n",
    "import matplotlib.pyplot as plt"
   ]
  },
  {
   "cell_type": "markdown",
   "metadata": {},
   "source": [
    "## 1. Linear Regression"
   ]
  },
  {
   "cell_type": "markdown",
   "metadata": {},
   "source": [
    "**Linear Regression:**\n",
    "\n",
    "$$ \\hat{y} = w_{1}.w_{1} + ... + w_{n}.x_{n} + bias $$\n",
    "\n",
    "$$ \\leftrightharpoons  \\hat{y} = Xw + b $$\n",
    "\n",
    "**Loss Function: (MSE)**\n",
    "\n",
    "$$ Mean Square Error = \\frac{1}{2}(y - \\hat{y})^{2} $$\n",
    "\n",
    "$$ L(w) = \\frac{1}{2N}\\left \\|(y - X.w)\\right \\|_{2}^{2} $$\n",
    "\n",
    "$$ \\bigtriangledown_{w} L(w) = \\frac{1}{N}X^{T}(Xw - y) $$\n",
    "\n",
    "**Optimizer: Gradient Descent**\n",
    "\n",
    "\n",
    "$$ \\theta \\leftarrow \\theta - \\eta.\\bigtriangledown_{\\theta}f(\\theta) $$"
   ]
  },
  {
   "cell_type": "code",
   "execution_count": 2,
   "metadata": {},
   "outputs": [],
   "source": [
    "def LR(w, X):\n",
    "    return X.dot(w)\n",
    "\n",
    "def LR_loss(w, X, y):\n",
    "    N = X.shape[0]\n",
    "    return .5/N * np.linalg.norm(y - LR(w, X))**2\n",
    "\n",
    "def LR_grad(w, X, y):\n",
    "    N = X.shape[0]\n",
    "    return 1/N * X.T.dot(LR(w, X) - y)\n",
    "\n",
    "def Batch_GD(w_init, X, y, lr):\n",
    "    w = w_init\n",
    "    loss_hist = [LR_loss(w, X, y)]\n",
    "    for it in range(100):\n",
    "        w_new = w - lr*LR_grad(w, X, y)\n",
    "        if np.linalg.norm(LR_grad(w_new, X, y))/len(w_new) < 1e-3:\n",
    "            break\n",
    "        w = w_new\n",
    "        loss_hist.append(LR_loss(w, X, y))\n",
    "    return w, loss_hist"
   ]
  },
  {
   "cell_type": "markdown",
   "metadata": {},
   "source": [
    "## 2. Data"
   ]
  },
  {
   "cell_type": "code",
   "execution_count": 3,
   "metadata": {},
   "outputs": [
    {
     "data": {
      "image/png": "[encoded data removed]",
      "text/plain": [
       "<Figure size 432x288 with 1 Axes>"
      ]
     },
     "metadata": {
      "needs_background": "light"
     },
     "output_type": "display_data"
    }
   ],
   "source": [
    "X = np.random.randn(1000)\n",
    "y = 4 + 3 * X + .5*np.random.randn(1000)\n",
    "\n",
    "plt.scatter(X, y, s=4)\n",
    "plt.show()"
   ]
  },
  {
   "cell_type": "code",
   "execution_count": 4,
   "metadata": {},
   "outputs": [
    {
     "data": {
      "text/plain": [
       "array([3.98372122, 2.99970882])"
      ]
     },
     "execution_count": 4,
     "metadata": {},
     "output_type": "execute_result"
    }
   ],
   "source": [
    "Xbar = np.concatenate((np.ones((X.shape[0], 1)), X.reshape(-1, 1)), axis = 1)\n",
    "\n",
    "w_init = np.random.rand(Xbar.shape[1])\n",
    "lr = 0.1\n",
    "w1, loss_hist1 = Batch_GD(w_init, Xbar, y, lr)\n",
    "w1"
   ]
  },
  {
   "cell_type": "code",
   "execution_count": 5,
   "metadata": {},
   "outputs": [
    {
     "data": {
      "image/png": "[encoded data removed]",
      "text/plain": [
       "<Figure size 432x288 with 1 Axes>"
      ]
     },
     "metadata": {
      "needs_background": "light"
     },
     "output_type": "display_data"
    }
   ],
   "source": [
    "plt.scatter(X, y, s=4)\n",
    "X0 = np.linspace(-4, 4, 20)\n",
    "y0 = w1[0] + w1[1]*X0\n",
    "plt.plot(X0, y0, 'r')\n",
    "plt.show()"
   ]
  },
  {
   "cell_type": "code",
   "execution_count": 6,
   "metadata": {},
   "outputs": [
    {
     "data": {
      "image/png": "[encoded data removed]",
      "text/plain": [
       "<Figure size 432x288 with 1 Axes>"
      ]
     },
     "metadata": {
      "needs_background": "light"
     },
     "output_type": "display_data"
    }
   ],
   "source": [
    "plt.plot(loss_hist1)\n",
    "plt.show()"
   ]
  },
  {
   "cell_type": "markdown",
   "metadata": {},
   "source": [
    "## 3. Stochastic Gradient Descent"
   ]
  },
  {
   "cell_type": "code",
   "execution_count": 7,
   "metadata": {},
   "outputs": [
    {
     "data": {
      "text/plain": [
       "array([3.92751643, 3.0283947 ])"
      ]
     },
     "execution_count": 7,
     "metadata": {},
     "output_type": "execute_result"
    }
   ],
   "source": [
    "def SGD(w_init, X, y, lr=0.1, n_epoches=100):\n",
    "    w = w_init\n",
    "    lost_hist = []\n",
    "    N = X.shape[0]\n",
    "    ep = 0\n",
    "    while ep < n_epoches:\n",
    "        ep += 1\n",
    "        mix_ids = np.random.permutation(N)\n",
    "        for i in mix_ids:\n",
    "            xi = X[i]\n",
    "            yi = y[i]\n",
    "            w_new = w - lr*LR_grad(w, xi, yi)\n",
    "        if np.linalg.norm(LR_grad(w_new, X, y))/len(w_new) < 1e-3:\n",
    "            break\n",
    "        w = w_new\n",
    "        lost_hist.append(LR_loss(w_new, xi, yi))\n",
    "    return w, lost_hist\n",
    "\n",
    "w_init = np.random.rand(Xbar.shape[1])\n",
    "w2, loss2 = SGD(w_init, Xbar, y)\n",
    "w2"
   ]
  },
  {
   "cell_type": "code",
   "execution_count": 8,
   "metadata": {},
   "outputs": [
    {
     "data": {
      "image/png": "[encoded data removed]",
      "text/plain": [
       "<Figure size 432x288 with 1 Axes>"
      ]
     },
     "metadata": {
      "needs_background": "light"
     },
     "output_type": "display_data"
    }
   ],
   "source": [
    "plt.plot(loss2)\n",
    "plt.show()"
   ]
  },
  {
   "cell_type": "markdown",
   "metadata": {},
   "source": [
    "## 4. Mini-batch Gradient Descent"
   ]
  },
  {
   "cell_type": "code",
   "execution_count": 9,
   "metadata": {},
   "outputs": [
    {
     "data": {
      "text/plain": [
       "array([3.87831669, 3.02294552])"
      ]
     },
     "execution_count": 9,
     "metadata": {},
     "output_type": "execute_result"
    }
   ],
   "source": [
    "def mini_BGD(w_init, X, y, lr=0.1, batch=10, n_epoches=100):\n",
    "    w = w_init\n",
    "    loss_hist = []\n",
    "    N = X.shape[0]\n",
    "    ep = 0\n",
    "    while ep < n_epoches:\n",
    "        ep += 1\n",
    "        #Shuffle Data\n",
    "        indices = np.random.permutation(N)\n",
    "        X = X[indices]\n",
    "        y = y[indices]\n",
    "        for i in range(0, N, batch):\n",
    "            X_i = X[i:i+batch]\n",
    "            y_i = y[i:i+batch]\n",
    "            w_new = w - lr*LR_grad(w, X_i, y_i)\n",
    "        if np.linalg.norm(LR_grad(w_new, X, y))/len(w_new) < 1e-3:\n",
    "            break\n",
    "        w = w_new\n",
    "        loss_hist.append(LR_loss(w, X, y))\n",
    "    return w, loss_hist\n",
    "\n",
    "w_init = np.random.rand(Xbar.shape[1])\n",
    "w3, loss3 = mini_BGD(w_init, Xbar, y)\n",
    "w3            "
   ]
  },
  {
   "cell_type": "code",
   "execution_count": 10,
   "metadata": {},
   "outputs": [
    {
     "data": {
      "image/png": "[encoded data removed]",
      "text/plain": [
       "<Figure size 432x288 with 1 Axes>"
      ]
     },
     "metadata": {
      "needs_background": "light"
     },
     "output_type": "display_data"
    }
   ],
   "source": [
    "plt.plot(loss3)\n",
    "plt.show()"
   ]
  },
  {
   "cell_type": "code",
   "execution_count": null,
   "metadata": {},
   "outputs": [],
   "source": []
  }
 ],
 "metadata": {
  "kernelspec": {
   "display_name": "Python 3",
   "language": "python",
   "name": "python3"
  },
  "language_info": {
   "codemirror_mode": {
    "name": "ipython",
    "version": 3
   },
   "file_extension": ".py",
   "mimetype": "text/x-python",
   "name": "python",
   "nbconvert_exporter": "python",
   "pygments_lexer": "ipython3",
   "version": "3.8.5"
  }
 },
 "nbformat": 4,
 "nbformat_minor": 4
}
