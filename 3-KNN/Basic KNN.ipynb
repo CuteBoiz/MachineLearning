{
 "cells": [
  {
   "cell_type": "markdown",
   "metadata": {},
   "source": [
    "# K-nearest Neighbors"
   ]
  },
  {
   "cell_type": "markdown",
   "metadata": {},
   "source": [
    "## 1. Create Dataset"
   ]
  },
  {
   "cell_type": "code",
   "execution_count": 1,
   "metadata": {},
   "outputs": [
    {
     "data": {
      "image/png": "[encoded data removed]",
      "text/plain": [
       "<Figure size 432x288 with 1 Axes>"
      ]
     },
     "metadata": {
      "needs_background": "light"
     },
     "output_type": "display_data"
    },
    {
     "data": {
      "text/plain": [
       "(array([-0.25652766, -0.54585727]), None)"
      ]
     },
     "execution_count": 1,
     "metadata": {},
     "output_type": "execute_result"
    }
   ],
   "source": [
    "import numpy as np \n",
    "import matplotlib.pyplot as plt \n",
    "from time import time\n",
    "\n",
    "X = np.random.randn(500, 2)\n",
    "Xlabel = np.random.randint(0, 2, (500, 1))\n",
    "z = np.random.randn(2)\n",
    "\n",
    "red = X[Xlabel.ravel() == 1]\n",
    "blue = X[Xlabel.ravel() == 0]\n",
    "plt.scatter(red[:, 0], red[:, 1], 20, 'r')\n",
    "plt.scatter(blue[:, 0], blue[:, 1], 20, 'b')\n",
    "\n",
    "\n",
    "z, plt.show()"
   ]
  },
  {
   "cell_type": "markdown",
   "metadata": {},
   "source": [
    "## 2. Caculate distances"
   ]
  },
  {
   "cell_type": "code",
   "execution_count": 2,
   "metadata": {},
   "outputs": [],
   "source": [
    "#naively compute square distance between 2 points\n",
    "def dist_pp(z, x):\n",
    "    d = z -x.reshape(z.shape)\n",
    "    return np.sum(d*d)\n",
    "\n",
    "#from one point to a set, naive\n",
    "def dist_ps_naive(z, X):\n",
    "    res = np.zeros((1, X.shape[0]))\n",
    "    for i in range(X.shape[0]):\n",
    "        res[0][i] = dist_pp(z, X[i])\n",
    "    return res\n",
    "\n",
    "def dist_ps_fast(z, X):\n",
    "    X2 = np.sum(X*X, 1) #square of l2 norm of reach row of X\n",
    "    z2 = np.sum(z*z) #square of l2 norm of z\n",
    "    return X2 + z2 - 2*X.dot(z)"
   ]
  },
  {
   "cell_type": "code",
   "execution_count": 3,
   "metadata": {},
   "outputs": [
    {
     "name": "stdout",
     "output_type": "stream",
     "text": [
      "naive:  0.002642393112182617 s\n",
      "fast:  0.0001385211944580078 s\n",
      "Different:  9.736236346443795e-15\n"
     ]
    }
   ],
   "source": [
    "t1 = time()\n",
    "D1 = dist_ps_naive(z, X)\n",
    "print('naive: ', time() - t1, 's')\n",
    "\n",
    "t1 = time()\n",
    "D2 = dist_ps_fast(z, X)\n",
    "print('fast: ', time() - t1, 's')\n",
    "\n",
    "print('Different: ', np.linalg.norm(D1 - D2))"
   ]
  },
  {
   "cell_type": "markdown",
   "metadata": {},
   "source": [
    "## 3. Distance between a set to another set"
   ]
  },
  {
   "cell_type": "code",
   "execution_count": 4,
   "metadata": {},
   "outputs": [],
   "source": [
    "d, N, M = 1000, 1000, 500\n",
    "X = np.random.randn(N, d)\n",
    "Z = np.random.randn(M, d)\n",
    "\n",
    "def dist_ss_0(Z, X):\n",
    "    M = Z.shape[0]\n",
    "    N = X.shape[0]\n",
    "    res = np.zeros((M, N))\n",
    "    for i in range(M):\n",
    "        res[i] = dist_ps_fast(Z[i], X)\n",
    "    return res\n",
    "\n",
    "def dist_ss_fast(Z, X):\n",
    "    X2 = np.sum(X*X, 1)\n",
    "    Z2 = np.sum(Z*Z, 1)\n",
    "    return Z2.reshape(-1, 1) + X2.reshape(1, -1) - 2*Z.dot(X.T)"
   ]
  },
  {
   "cell_type": "code",
   "execution_count": 5,
   "metadata": {},
   "outputs": [
    {
     "name": "stdout",
     "output_type": "stream",
     "text": [
      "half fast set2set runtime: 0.7217381000518799 s\n",
      "fast set2set runtime: 0.008998870849609375 s\n",
      "Result differnce: 7.243769885722579e-11\n"
     ]
    }
   ],
   "source": [
    "t1 = time()\n",
    "D3 = dist_ss_0(Z, X)\n",
    "print('half fast set2set runtime:', time() - t1, 's')\n",
    "\n",
    "t2 = time()\n",
    "D4 = dist_ss_fast(Z, X)\n",
    "print('fast set2set runtime:', time() - t2, 's')\n",
    "print('Result differnce:', np.linalg.norm(D3 - D4))"
   ]
  },
  {
   "cell_type": "markdown",
   "metadata": {},
   "source": [
    "## 4. KNN for Iris Flower"
   ]
  },
  {
   "cell_type": "code",
   "execution_count": 6,
   "metadata": {},
   "outputs": [
    {
     "name": "stdout",
     "output_type": "stream",
     "text": [
      "Labels: [0 1 2]\n",
      "Train size: 20 Test size: 130\n"
     ]
    }
   ],
   "source": [
    "from sklearn import neighbors, datasets\n",
    "from sklearn.model_selection import train_test_split\n",
    "from sklearn.metrics import accuracy_score\n",
    "\n",
    "#Split data\n",
    "np.random.seed(7)\n",
    "iris = datasets.load_iris()\n",
    "iris_X = iris.data\n",
    "iris_y = iris.target\n",
    "print('Labels:', np.unique(iris_y))\n",
    "\n",
    "X_train, X_test, y_train, y_test = train_test_split(iris_X, iris_y, test_size = 130)\n",
    "print('Train size:', X_train.shape[0], 'Test size:', X_test.shape[0])"
   ]
  },
  {
   "cell_type": "markdown",
   "metadata": {},
   "source": [
    "#### Result with 1NN"
   ]
  },
  {
   "cell_type": "code",
   "execution_count": 7,
   "metadata": {},
   "outputs": [
    {
     "name": "stdout",
     "output_type": "stream",
     "text": [
      "Acc of 1NN: 92.31 %\n"
     ]
    }
   ],
   "source": [
    "model = neighbors.KNeighborsClassifier(n_neighbors = 1, p =2 )#p = 2 => l2 norm\n",
    "model.fit(X_train, y_train)\n",
    "y_pred = model.predict(X_test)\n",
    "print('Acc of 1NN: %.2f %%' %(100*accuracy_score(y_test, y_pred)))"
   ]
  },
  {
   "cell_type": "markdown",
   "metadata": {},
   "source": [
    "#### Result with 7 NN"
   ]
  },
  {
   "cell_type": "code",
   "execution_count": 8,
   "metadata": {},
   "outputs": [
    {
     "name": "stdout",
     "output_type": "stream",
     "text": [
      "Acc of 7NN with major voting: 93.85 %\n"
     ]
    }
   ],
   "source": [
    "model = neighbors.KNeighborsClassifier(n_neighbors = 7, p = 2 )#p = 2 => l2 norm\n",
    "model.fit(X_train, y_train)\n",
    "y_pred = model.predict(X_test)\n",
    "print('Acc of 7NN with major voting: %.2f %%' %(100*accuracy_score(y_test, y_pred)))"
   ]
  },
  {
   "cell_type": "markdown",
   "metadata": {},
   "source": [
    "#### Result with 7NN + Distance weight"
   ]
  },
  {
   "cell_type": "code",
   "execution_count": 9,
   "metadata": {},
   "outputs": [
    {
     "name": "stdout",
     "output_type": "stream",
     "text": [
      "Acc of 7NN with (1/distance weights): 94.62 %\n"
     ]
    }
   ],
   "source": [
    "model = neighbors.KNeighborsClassifier(n_neighbors = 7, p = 2, weights = 'distance')\n",
    "model.fit(X_train, y_train)\n",
    "y_pred = model.predict(X_test)\n",
    "print('Acc of 7NN with (1/distance weights): %.2f %%' %(100*accuracy_score(y_test, y_pred)))"
   ]
  },
  {
   "cell_type": "markdown",
   "metadata": {},
   "source": [
    "#### 7NN with Custom weights"
   ]
  },
  {
   "cell_type": "code",
   "execution_count": 10,
   "metadata": {},
   "outputs": [
    {
     "name": "stdout",
     "output_type": "stream",
     "text": [
      "Acc of 7NN with custom weights: 95.38 %\n"
     ]
    }
   ],
   "source": [
    "def myweight(distances):\n",
    "    sigma2 = .4\n",
    "    return np.exp(-distances**2/sigma2)\n",
    "\n",
    "model = neighbors.KNeighborsClassifier(n_neighbors=7, p=2, weights=myweight)\n",
    "model.fit(X_train, y_train)\n",
    "y_pred = model.predict(X_test)\n",
    "print('Acc of 7NN with custom weights: %.2f %%' %(100*accuracy_score(y_test, y_pred)))"
   ]
  },
  {
   "cell_type": "code",
   "execution_count": null,
   "metadata": {},
   "outputs": [],
   "source": []
  }
 ],
 "metadata": {
  "kernelspec": {
   "display_name": "Python 3",
   "language": "python",
   "name": "python3"
  },
  "language_info": {
   "codemirror_mode": {
    "name": "ipython",
    "version": 3
   },
   "file_extension": ".py",
   "mimetype": "text/x-python",
   "name": "python",
   "nbconvert_exporter": "python",
   "pygments_lexer": "ipython3",
   "version": "3.8.5"
  }
 },
 "nbformat": 4,
 "nbformat_minor": 4
}
