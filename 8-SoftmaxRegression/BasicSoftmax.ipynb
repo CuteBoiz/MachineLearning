{
 "cells": [
  {
   "cell_type": "markdown",
   "metadata": {},
   "source": [
    "# SOFTMAX REGRESSION"
   ]
  },
  {
   "cell_type": "markdown",
   "metadata": {},
   "source": [
    "**1 .Softmax Regression:**\n",
    "$$ a_{i} = \\frac{exp(z_{i})}{\\sum^{C}_{j=1}exp(z_{j})},\\forall i=1,2,,..,C $$\n",
    "\n",
    "**2. Stable Softmax:**\n",
    "$$ a_{i} = \\frac{exp(z_{i}-c)}{\\sum^{C}_{j=1}exp(z_{j}-c)} $$\n",
    "\n",
    "**3. Loss Function:**\n",
    "$$ Cross Entropy = -\\sum^{C}_{i=1}p_{i}logq_{i} $$\n",
    "\n",
    "$$ L(w) = -\\sum^{C}_{j=1}y_{ji}log(a_{ji})\\  (with\\ y_{i} = label(x_{i}) => y_{i} = j) $$\n",
    "\n",
    "$$ \\Rightarrow L(w) = -\\frac{1}{N}\\sum^{N}_{i=1}log(a_{y_{i}, i}) $$\n",
    "\n",
    "**4.Optimizer:**\n",
    "$$ L(w) = \\frac{1}{N}log(A_{y_{i}}) $$\n",
    "\n",
    "$$\\bigtriangledown _{w}L(w)=\\frac{1}{N}(XE^{T})\\ with\\ E=A-Y $$"
   ]
  },
  {
   "cell_type": "code",
   "execution_count": 1,
   "metadata": {},
   "outputs": [],
   "source": [
    "import numpy as np\n",
    "import matplotlib.pyplot as plt"
   ]
  },
  {
   "cell_type": "code",
   "execution_count": 11,
   "metadata": {},
   "outputs": [],
   "source": [
    "def softmax(Z):\n",
    "    e_Z = np.exp(Z)\n",
    "    return e_Z/e_Z.sum(axis=1, keepdims=True)\n",
    "\n",
    "def softmax_loss(w, X, y):\n",
    "    A = softmax(X.dot(w))\n",
    "    id0 = range(X.shape[0])  \n",
    "    return - np.mean(np.log(A[id0, y]))\n",
    "\n",
    "def softmax_grad(w, X, y):\n",
    "    N = X.shape[0]\n",
    "    A = softmax(X.dot(w))\n",
    "    id0 = range(N)\n",
    "    A[id0, y] -= 1 #A - Y, shape of (N, C)\n",
    "    return 1/N*X.T.dot(A)\n",
    "\n",
    "def softmax_fit(w_init, X, y, lr=0.9, n_epoches=200, batch=10):\n",
    "    w = w_init\n",
    "    loss_hist = [softmax_loss(w_init, X, y)]\n",
    "    N, d = X.shape[0], X.shape[1]\n",
    "    ep = 0\n",
    "    while ep < n_epoches:\n",
    "        ep += 1\n",
    "        mix_ids = np.random.permutation(N)\n",
    "        X = X[mix_ids]\n",
    "        y = y[mix_ids]\n",
    "        for i in range(0, N, batch):\n",
    "            X_i = X[i:i+batch]\n",
    "            y_i = y[i:i+batch]\n",
    "            a_i = softmax(X.dot(w))\n",
    "            w_new = w - lr*softmax_grad(w, X_i, y_i)\n",
    "        loss_hist.append(softmax_loss(w, X, y))\n",
    "        if np.linalg.norm(w_new - w)/len(w_new) < 1e-4:\n",
    "            break\n",
    "        w = w_new\n",
    "    return w, loss_hist"
   ]
  },
  {
   "cell_type": "markdown",
   "metadata": {},
   "source": [
    "## 1. Data"
   ]
  },
  {
   "cell_type": "code",
   "execution_count": 14,
   "metadata": {},
   "outputs": [
    {
     "data": {
      "text/plain": [
       "array([[-0.43364763,  0.38641104, -1.10458072,  0.9079051 , -0.07977367],\n",
       "       [ 0.276897  , -0.70688038,  1.07364725, -2.34716165,  0.5079901 ],\n",
       "       [ 0.8376656 , -0.02903244,  0.32915929, -1.09742651, -2.91422817]])"
      ]
     },
     "execution_count": 14,
     "metadata": {},
     "output_type": "execute_result"
    }
   ],
   "source": [
    "C, N = 5, 200\n",
    "means = [[2, 2], [8, 3], [3, 6], [14, 2], [12, 8]]\n",
    "cov = [[1, 0], [0, 1]]\n",
    "X0 = np.random.multivariate_normal(means[0], cov, N)\n",
    "X1 = np.random.multivariate_normal(means[1], cov, N)\n",
    "X2 = np.random.multivariate_normal(means[2], cov, N)\n",
    "X3 = np.random.multivariate_normal(means[3], cov, N)\n",
    "X4 = np.random.multivariate_normal(means[4], cov, N)\n",
    "X = np.concatenate((X0, X1, X2, X3, X4), axis = 0)\n",
    "Xbar = np.concatenate((X, np.ones((X.shape[0], 1))), axis=1)\n",
    "\n",
    "y = np.asarray([0]*N + [1]*N + [2]*N + [3]*N + [4]*N)\n",
    "w_init = np.random.randn(Xbar.shape[1], C)\n",
    "\n",
    "w1, loss = softmax_fit(w_init, Xbar, y, batch=10, n_epoches=200, lr=0.1)\n",
    "w1"
   ]
  },
  {
   "cell_type": "code",
   "execution_count": 15,
   "metadata": {},
   "outputs": [
    {
     "data": {
      "image/png": "[encoded data removed]",
      "text/plain": [
       "<Figure size 432x288 with 1 Axes>"
      ]
     },
     "metadata": {
      "needs_background": "light"
     },
     "output_type": "display_data"
    }
   ],
   "source": [
    "plt.plot(loss)\n",
    "plt.xlabel('number of iterations', fontsize = 13)\n",
    "plt.ylabel('loss function', fontsize = 13)\n",
    "plt.tick_params(axis='both', which='major', labelsize=13)\n",
    "plt.show()"
   ]
  },
  {
   "cell_type": "markdown",
   "metadata": {},
   "source": [
    "## Mnist - Softmax Regression"
   ]
  },
  {
   "cell_type": "code",
   "execution_count": 16,
   "metadata": {},
   "outputs": [
    {
     "data": {
      "text/plain": [
       "(70000, 784)"
      ]
     },
     "execution_count": 16,
     "metadata": {},
     "output_type": "execute_result"
    }
   ],
   "source": [
    "from sklearn.datasets import fetch_openml\n",
    "from sklearn.model_selection import train_test_split\n",
    "from sklearn.metrics import accuracy_score\n",
    "mnist = fetch_openml('mnist_784')\n",
    "mnist.data.shape"
   ]
  },
  {
   "cell_type": "code",
   "execution_count": 17,
   "metadata": {},
   "outputs": [],
   "source": [
    "X = mnist.data\n",
    "y = mnist.target\n",
    "X_train, X_test, y_train, y_test = train_test_split(X, y, test_size=10000)"
   ]
  },
  {
   "cell_type": "code",
   "execution_count": 18,
   "metadata": {},
   "outputs": [
    {
     "name": "stdout",
     "output_type": "stream",
     "text": [
      "Acc 92.27 %\n"
     ]
    },
    {
     "name": "stderr",
     "output_type": "stream",
     "text": [
      "/home/tanphatnguyen/Desktop/Workplace/ML/lib/python3.8/site-packages/sklearn/linear_model/_logistic.py:762: ConvergenceWarning: lbfgs failed to converge (status=1):\n",
      "STOP: TOTAL NO. of ITERATIONS REACHED LIMIT.\n",
      "\n",
      "Increase the number of iterations (max_iter) or scale the data as shown in:\n",
      "    https://scikit-learn.org/stable/modules/preprocessing.html\n",
      "Please also refer to the documentation for alternative solver options:\n",
      "    https://scikit-learn.org/stable/modules/linear_model.html#logistic-regression\n",
      "  n_iter_i = _check_optimize_result(\n"
     ]
    }
   ],
   "source": [
    "from sklearn.linear_model import LogisticRegression\n",
    "\n",
    "model = LogisticRegression(C = 1e5, solver='lbfgs', multi_class='multinomial')\n",
    "model.fit(X_train, y_train)\n",
    "y_pred = model.predict(X_test)\n",
    "\n",
    "print('Acc %.2f %%'  % (100*accuracy_score(y_test, y_pred.tolist())))"
   ]
  },
  {
   "cell_type": "code",
   "execution_count": null,
   "metadata": {},
   "outputs": [],
   "source": []
  }
 ],
 "metadata": {
  "kernelspec": {
   "display_name": "Python 3",
   "language": "python",
   "name": "python3"
  },
  "language_info": {
   "codemirror_mode": {
    "name": "ipython",
    "version": 3
   },
   "file_extension": ".py",
   "mimetype": "text/x-python",
   "name": "python",
   "nbconvert_exporter": "python",
   "pygments_lexer": "ipython3",
   "version": "3.8.5"
  }
 },
 "nbformat": 4,
 "nbformat_minor": 4
}
