{
 "cells": [
  {
   "cell_type": "markdown",
   "metadata": {},
   "source": [
    "# SOFTMAX REGRESSION"
   ]
  },
  {
   "cell_type": "code",
   "execution_count": 1,
   "metadata": {},
   "outputs": [],
   "source": [
    "import numpy as np\n",
    "import matplotlib.pyplot as plt\n",
    "\n",
    "#This softmax can be overflow if Z is big\n",
    "def softmax(Z):\n",
    "    e_X = np.exp(Z)\n",
    "    return e_Z / e_Z.sum(axis=1, keepdims=True)\n",
    "\n",
    "#Stable Softmax\n",
    "def softmax_stable(Z):\n",
    "    e_Z = np.exp(Z - np.max(Z, axis=1, keepdims=True))\n",
    "    return e_Z / e_Z.sum(axis=1, keepdims=True)\n"
   ]
  },
  {
   "cell_type": "markdown",
   "metadata": {},
   "source": [
    "## Loss Function\n",
    "\n",
    "**Cross Entropy**\n",
    "\n",
    "```Loss = -(y_actual).ln(y_predict) - (1-y_actual).ln(1-y_predict)```"
   ]
  },
  {
   "cell_type": "code",
   "execution_count": 2,
   "metadata": {},
   "outputs": [],
   "source": [
    " def softmax_loss(X, y, w):\n",
    "    A= softmax_stable(X.dot(w))\n",
    "    id0 = range(X.shape[0]) #indexes in axis0 \n",
    "    return -np.mean(np.log(A[id0, y]))"
   ]
  },
  {
   "cell_type": "markdown",
   "metadata": {},
   "source": [
    "## Optimizer"
   ]
  },
  {
   "cell_type": "code",
   "execution_count": 3,
   "metadata": {},
   "outputs": [],
   "source": [
    "def softmax_grad(X, y, w):\n",
    "    A = softmax_stable(X.dot(w)) #Shape of (N, C)\n",
    "    id0 = range(X.shape[0])\n",
    "    A[id0, y] -= 1 #A - Y Shape of (N, C)\n",
    "    return X.T.dot(A)/X.shape[0]\n",
    "\n",
    "def softmax_fit(W, X, y, lr=0.01, n_epoches=100, to1=1e-5, batch_size=10):\n",
    "    W_old = W.copy()\n",
    "    ep = 0\n",
    "    loss_hist = [softmax_loss(X, y, W)]\n",
    "    N = X.shape[0]\n",
    "    nbatches = int(np.ceil(float(N)/batch_size))\n",
    "    while ep < n_epoches:\n",
    "        ep +=1 \n",
    "        mix_ids = np.random.permutation(N) # mix data\n",
    "        for i in range(nbatches):\n",
    "            batch_ids = mix_ids[batch_size*i:min(batch_size*(i+1), N)]\n",
    "            X_batch, y_batch = X[batch_ids], y[batch_ids]\n",
    "            W -= lr*softmax_grad(X_batch, y_batch, W)\n",
    "        loss_hist.append(softmax_loss(X, y, W))\n",
    "        if np.linalg.norm(W - W_old)/W.size < to1:\n",
    "            break\n",
    "        W_old = W.copy()\n",
    "    return W, loss_hist    "
   ]
  },
  {
   "cell_type": "code",
   "execution_count": 4,
   "metadata": {},
   "outputs": [],
   "source": [
    "C, N = 5, 200\n",
    "means = [[2, 2], [8, 3], [3, 6], [14, 2], [12, 8]]\n",
    "cov = [[1, 0], [0, 1]]\n",
    "X0 = np.random.multivariate_normal(means[0], cov, N)\n",
    "X1 = np.random.multivariate_normal(means[1], cov, N)\n",
    "X2 = np.random.multivariate_normal(means[2], cov, N)\n",
    "X3 = np.random.multivariate_normal(means[3], cov, N)\n",
    "X4 = np.random.multivariate_normal(means[4], cov, N)\n",
    "X = np.concatenate((X0, X1, X2, X3, X4), axis = 0)\n",
    "Xbar = np.concatenate((X, np.ones((X.shape[0], 1))), axis=1)\n",
    "\n",
    "y = np.asarray([0]*N + [1]*N + [2]*N + [3]*N + [4]*N)\n",
    "W_init = np.random.randn(Xbar.shape[1], C)"
   ]
  },
  {
   "cell_type": "code",
   "execution_count": 5,
   "metadata": {},
   "outputs": [
    {
     "data": {
      "text/plain": [
       "array([[-0.84653957,  0.77738089, -1.17175678,  1.81182569,  0.51576432],\n",
       "       [-1.19391513, -1.70858378,  1.65445036, -2.91433398,  0.58185283],\n",
       "       [ 9.08047421,  2.84738358, -1.5864881 , -5.18284217, -5.95953025]])"
      ]
     },
     "execution_count": 5,
     "metadata": {},
     "output_type": "execute_result"
    }
   ],
   "source": [
    "W1, loss = softmax_fit(W_init, Xbar, y, batch_size=10, n_epoches=100, lr=0.05)\n",
    "\n",
    "W1"
   ]
  },
  {
   "cell_type": "code",
   "execution_count": 6,
   "metadata": {},
   "outputs": [
    {
     "data": {
      "image/png": "[encoded data removed]",
      "text/plain": [
       "<Figure size 432x288 with 1 Axes>"
      ]
     },
     "metadata": {
      "needs_background": "light"
     },
     "output_type": "display_data"
    }
   ],
   "source": [
    "plt.plot(loss)\n",
    "plt.xlabel('number of iterations', fontsize = 13)\n",
    "plt.ylabel('loss function', fontsize = 13)\n",
    "plt.tick_params(axis='both', which='major', labelsize=13)\n",
    "plt.show()"
   ]
  },
  {
   "cell_type": "code",
   "execution_count": null,
   "metadata": {},
   "outputs": [],
   "source": []
  }
 ],
 "metadata": {
  "kernelspec": {
   "display_name": "Python 3",
   "language": "python",
   "name": "python3"
  },
  "language_info": {
   "codemirror_mode": {
    "name": "ipython",
    "version": 3
   },
   "file_extension": ".py",
   "mimetype": "text/x-python",
   "name": "python",
   "nbconvert_exporter": "python",
   "pygments_lexer": "ipython3",
   "version": "3.8.5"
  }
 },
 "nbformat": 4,
 "nbformat_minor": 4
}
