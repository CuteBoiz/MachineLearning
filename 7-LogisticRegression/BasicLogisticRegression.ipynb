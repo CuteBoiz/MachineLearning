{
 "cells": [
  {
   "cell_type": "markdown",
   "metadata": {},
   "source": [
    "# Logistic Regression"
   ]
  },
  {
   "cell_type": "markdown",
   "metadata": {},
   "source": [
    "## 1.Create dataset"
   ]
  },
  {
   "cell_type": "code",
   "execution_count": 1,
   "metadata": {},
   "outputs": [],
   "source": [
    "import matplotlib.pyplot as plt\n",
    "import numpy as np\n",
    "import os\n",
    "np.random.seed(22)\n",
    "\n",
    "def mkdir_if_not_exist(path):\n",
    "    if not isinstance(path, str):\n",
    "        path = os.path.join(*path)\n",
    "    if not os.path.exists(path):\n",
    "        os.makedirs(path)"
   ]
  },
  {
   "cell_type": "code",
   "execution_count": 2,
   "metadata": {},
   "outputs": [],
   "source": [
    "X0 = np.array([[0.5, 1.5, 0.75, 1.75, 2.5, 3.5, 1.0, 1.25, 2.0, 3.0]])\n",
    "X1 = np.array([[2.25, 3.25, 4.5, 4.75, 1.75, 2.75, 4.0, 5.0, 4.25, 5.5]])\n",
    "\n",
    "X = np.concatenate((X0, X1), axis = 1)\n",
    "y = np.asarray([0]*X0.size + [1]*X1.size)\n",
    "\n",
    "X, y\n",
    "data_file = '../data/LogR1.csv'\n",
    "mkdir_if_not_exist('../data')\n",
    "with open (data_file, 'w') as f:\n",
    "    f.write('Hours,Pass\\n')\n",
    "    for i in range(X.size):\n",
    "        str0 = '{},{}\\n'.format(X[0][i], y[i])\n",
    "        f.write(str0)"
   ]
  },
  {
   "cell_type": "markdown",
   "metadata": {},
   "source": [
    "## 2. Load dataset"
   ]
  },
  {
   "cell_type": "code",
   "execution_count": 3,
   "metadata": {},
   "outputs": [
    {
     "data": {
      "text/plain": [
       "(array([[0.5 ],\n",
       "        [1.5 ],\n",
       "        [0.75],\n",
       "        [1.75],\n",
       "        [2.5 ],\n",
       "        [3.5 ],\n",
       "        [1.  ],\n",
       "        [1.25],\n",
       "        [2.  ],\n",
       "        [3.  ],\n",
       "        [2.25],\n",
       "        [3.25],\n",
       "        [4.5 ],\n",
       "        [4.75],\n",
       "        [1.75],\n",
       "        [2.75],\n",
       "        [4.  ],\n",
       "        [5.  ],\n",
       "        [4.25],\n",
       "        [5.5 ]]),\n",
       " array([0, 0, 0, 0, 0, 0, 0, 0, 0, 0, 1, 1, 1, 1, 1, 1, 1, 1, 1, 1]))"
      ]
     },
     "execution_count": 3,
     "metadata": {},
     "output_type": "execute_result"
    }
   ],
   "source": [
    "import pandas as pd\n",
    "\n",
    "data_file = '../data/LogR1.csv'\n",
    "data = pd.read_csv(data_file)\n",
    "inputs ,outputs = data.iloc[:, 0:1], data.iloc[:, -1]\n",
    "X, y = np.array(inputs.values), np.array(outputs.values)\n",
    "X, y"
   ]
  },
  {
   "cell_type": "code",
   "execution_count": 4,
   "metadata": {},
   "outputs": [
    {
     "name": "stderr",
     "output_type": "stream",
     "text": [
      "<ipython-input-4-ab15179be873>:12: MatplotlibDeprecationWarning: Adding an axes using the same arguments as a previous axes currently reuses the earlier instance.  In a future version, a new instance will always be created and returned.  Meanwhile, this warning can be suppressed, and the future behavior ensured, by passing a unique label to each axes instance.\n",
      "  plt.axes().set_aspect('equal')\n"
     ]
    },
    {
     "data": {
      "image/png": "[encoded data removed]",
      "text/plain": [
       "<Figure size 432x288 with 1 Axes>"
      ]
     },
     "metadata": {
      "needs_background": "light"
     },
     "output_type": "display_data"
    }
   ],
   "source": [
    "y0 = np.asarray([0]*X0.size)\n",
    "y1 = np.asarray([1]*X1.size)\n",
    "\n",
    "plt.plot(X0.T, y0, 'ro', markersize = 8)\n",
    "plt.plot(X1.T, y1, 'bs', markersize = 8)\n",
    "\n",
    "plt.axis([0, 6, -.5, 1.5])\n",
    "cur_axes = plt.gca()\n",
    "plt.xlabel('hours studying', fontsize = 14)\n",
    "plt.ylabel('fail(0) / pass(1)', fontsize = 14)\n",
    "cur_axes.axes.get_yaxis().set_ticks([0, 1])\n",
    "plt.axes().set_aspect('equal')\n",
    "plt.tick_params(axis='both', which='major', labelsize=14)\n",
    "\n",
    "plt.show()"
   ]
  },
  {
   "cell_type": "markdown",
   "metadata": {},
   "source": [
    "## 3. Build Sigmoid Function"
   ]
  },
  {
   "cell_type": "code",
   "execution_count": 16,
   "metadata": {},
   "outputs": [],
   "source": [
    "def sigmoid(S):\n",
    "    return 1/(1 + np.exp(-S))\n",
    "\n",
    "def prob(w, X):\n",
    "    return sigmoid(X.dot(w))\n",
    "\n",
    "def loss(w, X, y, lam):\n",
    "    z = prob(w, X)\n",
    "    return -np.mean(y*np.log(z) + (1-y)*np.log(1-z)) + 0.5*lam/X.shape[0]*np.sum(w*w)\n",
    "\n",
    "def LogR(w_init, X, y, lam=0.001, lr=0.1, nepoches=2000):\n",
    "    w = w_old = w_init\n",
    "    N, d = X.shape[0], X.shape[1]\n",
    "    loss_hist = [loss(w_init, X, y, lam)]\n",
    "    ep = 0\n",
    "    while ep < nepoches:\n",
    "        ep += 1\n",
    "        mix_ids = np.random.permutation(N)\n",
    "        for i in mix_ids:\n",
    "            xi = X[i]\n",
    "            yi = y[i]\n",
    "            zi = sigmoid(xi.dot(w))\n",
    "            w = w - lr*((zi - yi)*xi + lam*w)\n",
    "        loss_hist.append(loss(w, X, y, lam))\n",
    "        if np.linalg.norm(w - w_old)/d < 1e-6:\n",
    "            break\n",
    "        w_old = w\n",
    "    return w, loss_hist\n",
    "\n",
    "np.random.seed(2)"
   ]
  },
  {
   "cell_type": "code",
   "execution_count": 17,
   "metadata": {},
   "outputs": [
    {
     "name": "stdout",
     "output_type": "stream",
     "text": [
      "[-0.39643228  0.32423496]\n",
      "0.6505739169528659\n"
     ]
    }
   ],
   "source": [
    "Xbar = np.concatenate((np.zeros((X.shape[0], 1)), X), axis = 1)\n",
    "w_init = np.random.randn(Xbar.shape[1])\n",
    "lam = 0.0001\n",
    "w1, loss_hist1 = LogR(w_init, Xbar, y, lam, lr = 0.05, nepoches=500)\n",
    "print(w1)\n",
    "print(loss(w1, Xbar, y, lam))"
   ]
  },
  {
   "cell_type": "markdown",
   "metadata": {},
   "source": [
    "## Loss:"
   ]
  },
  {
   "cell_type": "code",
   "execution_count": 18,
   "metadata": {},
   "outputs": [
    {
     "data": {
      "image/png": "[encoded data removed]",
      "text/plain": [
       "<Figure size 432x288 with 1 Axes>"
      ]
     },
     "metadata": {
      "needs_background": "light"
     },
     "output_type": "display_data"
    }
   ],
   "source": [
    "plt.plot(loss_hist1)\n",
    "plt.xlabel('number of iterations', fontsize = 13)\n",
    "plt.ylabel('loss function', fontsize = 13)\n",
    "plt.tick_params(axis='both', which='major', labelsize=13)\n",
    "plt.show()"
   ]
  },
  {
   "cell_type": "markdown",
   "metadata": {},
   "source": [
    "## 4. Solution by sklearn"
   ]
  },
  {
   "cell_type": "code",
   "execution_count": 25,
   "metadata": {},
   "outputs": [
    {
     "name": "stdout",
     "output_type": "stream",
     "text": [
      "[ 1.50461548 -4.07763981]\n",
      "7.757334159912461\n"
     ]
    }
   ],
   "source": [
    "from sklearn.linear_model import LogisticRegression \n",
    "model = LogisticRegression(C = 2/lam)\n",
    "model.fit(X, y)\n",
    "\n",
    "w2 = np.array([model.coef_[0][0], model.intercept_[0]])\n",
    "print(w2)\n",
    "print(loss(w2, Xbar, y, lam))"
   ]
  },
  {
   "cell_type": "code",
   "execution_count": 27,
   "metadata": {},
   "outputs": [
    {
     "data": {
      "image/png": "[encoded data removed]",
      "text/plain": [
       "<Figure size 432x288 with 1 Axes>"
      ]
     },
     "metadata": {
      "needs_background": "light"
     },
     "output_type": "display_data"
    }
   ],
   "source": [
    "plt.plot(X0.T, y0, 'ro', markersize = 8, markeredgecolor = 'k')\n",
    "plt.plot(X1.T, y1, 'bs', markersize = 8, markeredgecolor = 'k')\n",
    "xx = np.linspace(0, 6, 1000)\n",
    "w0 = w2[1]\n",
    "w1 = w2[0]\n",
    "threshold = -w0/w1\n",
    "yy = sigmoid(w0 + w1*xx)\n",
    "plt.plot(xx, yy, 'g-', linewidth = 2)\n",
    "plt.plot(threshold, .5, 'y^', markersize = 8, markeredgecolor = 'k')\n",
    "plt.xlabel('studying hours', fontsize = 13)\n",
    "plt.ylabel('predicted probability of pass', fontsize = 13)\n",
    "plt.axis([0, 6, -.5, 1.5])\n",
    "plt.tick_params(axis='both', which='major', labelsize=13)\n",
    "plt.show()"
   ]
  },
  {
   "cell_type": "code",
   "execution_count": null,
   "metadata": {},
   "outputs": [],
   "source": []
  }
 ],
 "metadata": {
  "kernelspec": {
   "display_name": "Python 3",
   "language": "python",
   "name": "python3"
  },
  "language_info": {
   "codemirror_mode": {
    "name": "ipython",
    "version": 3
   },
   "file_extension": ".py",
   "mimetype": "text/x-python",
   "name": "python",
   "nbconvert_exporter": "python",
   "pygments_lexer": "ipython3",
   "version": "3.8.5"
  }
 },
 "nbformat": 4,
 "nbformat_minor": 4
}
