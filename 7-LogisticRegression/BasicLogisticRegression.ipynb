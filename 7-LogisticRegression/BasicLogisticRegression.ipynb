{
 "cells": [
  {
   "cell_type": "markdown",
   "metadata": {},
   "source": [
    "# LOGISTIC REGRESSION"
   ]
  },
  {
   "cell_type": "code",
   "execution_count": 1,
   "metadata": {},
   "outputs": [],
   "source": [
    "def sigmoid(S):\n",
    "    return 1/(1+np.exp(-S))"
   ]
  },
  {
   "cell_type": "markdown",
   "metadata": {},
   "source": [
    "## Loss Function\n",
    "Logistis regression can't use MSE but we can use Log Loss or Cross Entropy:\n",
    "\n",
    "**cost = -(y_act).ln(z) - (1 - y_act).ln(1-z)**\n",
    "\n",
    "*with z = y_predict = Sigmoid(X.w)*\n",
    "\n"
   ]
  },
  {
   "cell_type": "code",
   "execution_count": 2,
   "metadata": {},
   "outputs": [],
   "source": [
    "#Loss with wight decay (avoid overfitting)\n",
    "def loss(w, X, y , lam):\n",
    "    z= sigmoid(X.dot(w))\n",
    "    return -np.mean(y*np.log(z)+(1-y)*np.log(1-z)) + 0.5*lam/X.shape[0]*np.sum(w*w)"
   ]
  },
  {
   "cell_type": "markdown",
   "metadata": {},
   "source": [
    "## Optimizer\n",
    "\n",
    "**w <--  w - lr.((sigmoid(X.w) -yi).xi + lam.w)**"
   ]
  },
  {
   "cell_type": "code",
   "execution_count": 3,
   "metadata": {},
   "outputs": [],
   "source": [
    "def logistic_regression(w_init, X, y, lam=0.001, lr=0.1, n_epoches=2000):\n",
    "    N, d = X.shape[0], X.shape[1]\n",
    "    w = w_old = w_init\n",
    "    loss_hist = [loss(w_init, X, y, lam)]\n",
    "    ep = 0\n",
    "    while ep < n_epoches:\n",
    "        ep+=1\n",
    "        mix_ids = np.random.permutation(N)\n",
    "        for i in mix_ids:\n",
    "            xi = X[i]\n",
    "            yi = y[i]\n",
    "            zi = sigmoid(xi.dot(w))\n",
    "            w = w - lr*((zi - yi)*xi + lam*w)\n",
    "        loss_hist.append(loss(w, X, y, lam))\n",
    "        if np.linalg.norm(w - w_old)/d < 1e-6:\n",
    "            break\n",
    "        w_old = w\n",
    "    return w, loss_hist"
   ]
  },
  {
   "cell_type": "markdown",
   "metadata": {},
   "source": [
    "## 1.Create dataset"
   ]
  },
  {
   "cell_type": "code",
   "execution_count": 4,
   "metadata": {},
   "outputs": [],
   "source": [
    "import matplotlib.pyplot as plt\n",
    "import numpy as np\n",
    "import os\n",
    "np.random.seed(22)\n",
    "\n",
    "def mkdir_if_not_exist(path):\n",
    "    if not isinstance(path, str):\n",
    "        path = os.path.join(*path)\n",
    "    if not os.path.exists(path):\n",
    "        os.makedirs(path)"
   ]
  },
  {
   "cell_type": "code",
   "execution_count": 5,
   "metadata": {},
   "outputs": [],
   "source": [
    "X0 = np.array([[0.5, 1.5, 0.75, 1.75, 2.5, 3.5, 1.0, 1.25, 2.0, 3.0]])\n",
    "X1 = np.array([[2.25, 3.25, 4.5, 4.75, 1.75, 2.75, 4.0, 5.0, 4.25, 5.5]])\n",
    "\n",
    "X = np.concatenate((X0, X1), axis = 1)\n",
    "y = np.asarray([0]*X0.size + [1]*X1.size)\n",
    "\n",
    "X, y\n",
    "data_file = '../data/LogR1.csv'\n",
    "mkdir_if_not_exist('../data')\n",
    "with open (data_file, 'w') as f:\n",
    "    f.write('Hours,Pass\\n')\n",
    "    for i in range(X.size):\n",
    "        str0 = '{},{}\\n'.format(X[0][i], y[i])\n",
    "        f.write(str0)"
   ]
  },
  {
   "cell_type": "markdown",
   "metadata": {},
   "source": [
    "## 2. Load dataset"
   ]
  },
  {
   "cell_type": "code",
   "execution_count": 6,
   "metadata": {},
   "outputs": [
    {
     "data": {
      "text/html": [
       "<div>\n",
       "<style scoped>\n",
       "    .dataframe tbody tr th:only-of-type {\n",
       "        vertical-align: middle;\n",
       "    }\n",
       "\n",
       "    .dataframe tbody tr th {\n",
       "        vertical-align: top;\n",
       "    }\n",
       "\n",
       "    .dataframe thead th {\n",
       "        text-align: right;\n",
       "    }\n",
       "</style>\n",
       "<table border=\"1\" class=\"dataframe\">\n",
       "  <thead>\n",
       "    <tr style=\"text-align: right;\">\n",
       "      <th></th>\n",
       "      <th>Hours</th>\n",
       "      <th>Pass</th>\n",
       "    </tr>\n",
       "  </thead>\n",
       "  <tbody>\n",
       "    <tr>\n",
       "      <th>0</th>\n",
       "      <td>0.50</td>\n",
       "      <td>0</td>\n",
       "    </tr>\n",
       "    <tr>\n",
       "      <th>1</th>\n",
       "      <td>1.50</td>\n",
       "      <td>0</td>\n",
       "    </tr>\n",
       "    <tr>\n",
       "      <th>2</th>\n",
       "      <td>0.75</td>\n",
       "      <td>0</td>\n",
       "    </tr>\n",
       "    <tr>\n",
       "      <th>3</th>\n",
       "      <td>1.75</td>\n",
       "      <td>0</td>\n",
       "    </tr>\n",
       "    <tr>\n",
       "      <th>4</th>\n",
       "      <td>2.50</td>\n",
       "      <td>0</td>\n",
       "    </tr>\n",
       "    <tr>\n",
       "      <th>5</th>\n",
       "      <td>3.50</td>\n",
       "      <td>0</td>\n",
       "    </tr>\n",
       "    <tr>\n",
       "      <th>6</th>\n",
       "      <td>1.00</td>\n",
       "      <td>0</td>\n",
       "    </tr>\n",
       "    <tr>\n",
       "      <th>7</th>\n",
       "      <td>1.25</td>\n",
       "      <td>0</td>\n",
       "    </tr>\n",
       "    <tr>\n",
       "      <th>8</th>\n",
       "      <td>2.00</td>\n",
       "      <td>0</td>\n",
       "    </tr>\n",
       "    <tr>\n",
       "      <th>9</th>\n",
       "      <td>3.00</td>\n",
       "      <td>0</td>\n",
       "    </tr>\n",
       "    <tr>\n",
       "      <th>10</th>\n",
       "      <td>2.25</td>\n",
       "      <td>1</td>\n",
       "    </tr>\n",
       "    <tr>\n",
       "      <th>11</th>\n",
       "      <td>3.25</td>\n",
       "      <td>1</td>\n",
       "    </tr>\n",
       "    <tr>\n",
       "      <th>12</th>\n",
       "      <td>4.50</td>\n",
       "      <td>1</td>\n",
       "    </tr>\n",
       "    <tr>\n",
       "      <th>13</th>\n",
       "      <td>4.75</td>\n",
       "      <td>1</td>\n",
       "    </tr>\n",
       "    <tr>\n",
       "      <th>14</th>\n",
       "      <td>1.75</td>\n",
       "      <td>1</td>\n",
       "    </tr>\n",
       "    <tr>\n",
       "      <th>15</th>\n",
       "      <td>2.75</td>\n",
       "      <td>1</td>\n",
       "    </tr>\n",
       "    <tr>\n",
       "      <th>16</th>\n",
       "      <td>4.00</td>\n",
       "      <td>1</td>\n",
       "    </tr>\n",
       "    <tr>\n",
       "      <th>17</th>\n",
       "      <td>5.00</td>\n",
       "      <td>1</td>\n",
       "    </tr>\n",
       "    <tr>\n",
       "      <th>18</th>\n",
       "      <td>4.25</td>\n",
       "      <td>1</td>\n",
       "    </tr>\n",
       "    <tr>\n",
       "      <th>19</th>\n",
       "      <td>5.50</td>\n",
       "      <td>1</td>\n",
       "    </tr>\n",
       "  </tbody>\n",
       "</table>\n",
       "</div>"
      ],
      "text/plain": [
       "    Hours  Pass\n",
       "0    0.50     0\n",
       "1    1.50     0\n",
       "2    0.75     0\n",
       "3    1.75     0\n",
       "4    2.50     0\n",
       "5    3.50     0\n",
       "6    1.00     0\n",
       "7    1.25     0\n",
       "8    2.00     0\n",
       "9    3.00     0\n",
       "10   2.25     1\n",
       "11   3.25     1\n",
       "12   4.50     1\n",
       "13   4.75     1\n",
       "14   1.75     1\n",
       "15   2.75     1\n",
       "16   4.00     1\n",
       "17   5.00     1\n",
       "18   4.25     1\n",
       "19   5.50     1"
      ]
     },
     "execution_count": 6,
     "metadata": {},
     "output_type": "execute_result"
    }
   ],
   "source": [
    "import pandas as pd\n",
    "\n",
    "data_file = '../data/LogR1.csv'\n",
    "data = pd.read_csv(data_file)\n",
    "inputs ,outputs = data.iloc[:, 0:1], data.iloc[:, -1]\n",
    "X, y = np.array(inputs.values), np.array(outputs.values)\n",
    "data"
   ]
  },
  {
   "cell_type": "code",
   "execution_count": 7,
   "metadata": {},
   "outputs": [
    {
     "data": {
      "image/png": "[encoded data removed]",
      "text/plain": [
       "<Figure size 432x288 with 1 Axes>"
      ]
     },
     "metadata": {
      "needs_background": "light"
     },
     "output_type": "display_data"
    }
   ],
   "source": [
    "y0 = np.asarray([0]*X0.size)\n",
    "y1 = np.asarray([1]*X1.size)\n",
    "\n",
    "plt.plot(X0.T, y0, 'ro', markersize = 8)\n",
    "plt.plot(X1.T, y1, 'bs', markersize = 8)\n",
    "\n",
    "plt.axis([0, 6, -.5, 1.5])\n",
    "cur_axes = plt.gca()\n",
    "plt.xlabel('hours studying', fontsize = 14)\n",
    "plt.ylabel('fail(0) / pass(1)', fontsize = 14)\n",
    "cur_axes.axes.get_yaxis().set_ticks([0, 1])\n",
    "plt.tick_params(axis='both', which='major', labelsize=14)\n",
    "\n",
    "plt.show()"
   ]
  },
  {
   "cell_type": "markdown",
   "metadata": {},
   "source": [
    "## 3. Apply "
   ]
  },
  {
   "cell_type": "code",
   "execution_count": 8,
   "metadata": {},
   "outputs": [
    {
     "data": {
      "text/plain": [
       "array([-4.04571998,  1.57942163])"
      ]
     },
     "execution_count": 8,
     "metadata": {},
     "output_type": "execute_result"
    }
   ],
   "source": [
    "Xbar = np.concatenate((np.ones((X.shape[0], 1)), X), axis = 1)\n",
    "w_init = np.random.randn(Xbar.shape[1])\n",
    "lam = 0.0001\n",
    "w1, loss_hist1 = logistic_regression(w_init, Xbar, y, lam, lr = 0.05, n_epoches=500)\n",
    "w1"
   ]
  },
  {
   "cell_type": "markdown",
   "metadata": {},
   "source": [
    "## Loss:"
   ]
  },
  {
   "cell_type": "code",
   "execution_count": 9,
   "metadata": {},
   "outputs": [
    {
     "data": {
      "image/png": "[encoded data removed]",
      "text/plain": [
       "<Figure size 432x288 with 1 Axes>"
      ]
     },
     "metadata": {
      "needs_background": "light"
     },
     "output_type": "display_data"
    }
   ],
   "source": [
    "plt.plot(loss_hist1)\n",
    "plt.xlabel('number of iterations', fontsize = 13)\n",
    "plt.ylabel('loss function', fontsize = 13)\n",
    "plt.tick_params(axis='both', which='major', labelsize=13)\n",
    "plt.show()"
   ]
  },
  {
   "cell_type": "markdown",
   "metadata": {},
   "source": [
    "## 4. Solution by sklearn"
   ]
  },
  {
   "cell_type": "code",
   "execution_count": 10,
   "metadata": {},
   "outputs": [
    {
     "name": "stdout",
     "output_type": "stream",
     "text": [
      "[ 1.50461548 -4.07763981]\n",
      "7.033900051641465\n"
     ]
    }
   ],
   "source": [
    "from sklearn.linear_model import LogisticRegression \n",
    "model = LogisticRegression(C = 2/lam)\n",
    "model.fit(X, y)\n",
    "\n",
    "w2 = np.array([model.coef_[0][0], model.intercept_[0]])\n",
    "print(w2)\n",
    "print(loss(w2, Xbar, y, lam))"
   ]
  },
  {
   "cell_type": "code",
   "execution_count": 11,
   "metadata": {},
   "outputs": [
    {
     "data": {
      "image/png": "[encoded data removed]",
      "text/plain": [
       "<Figure size 432x288 with 1 Axes>"
      ]
     },
     "metadata": {
      "needs_background": "light"
     },
     "output_type": "display_data"
    }
   ],
   "source": [
    "plt.plot(X0.T, y0, 'ro', markersize = 8, markeredgecolor = 'k')\n",
    "plt.plot(X1.T, y1, 'bs', markersize = 8, markeredgecolor = 'k')\n",
    "x0 = np.linspace(0, 6, 1000)\n",
    "\n",
    "y1 = sigmoid(w1[0] + w1[1]*x0)\n",
    "y2 = sigmoid(w2[1] + w2[0]*x0)\n",
    "\n",
    "\n",
    "plt.plot(x0, y1, 'g-', linewidth = 2)\n",
    "plt.plot(x0, y2, 'y-', linewidth = 2)\n",
    "\n",
    "plt.xlabel('studying hours', fontsize = 13)\n",
    "plt.ylabel('predicted probability of pass', fontsize = 13)\n",
    "plt.axis([0, 6, -.5, 1.5])\n",
    "plt.tick_params(axis='both', which='major', labelsize=13)\n",
    "plt.show()"
   ]
  },
  {
   "cell_type": "code",
   "execution_count": null,
   "metadata": {},
   "outputs": [],
   "source": []
  }
 ],
 "metadata": {
  "kernelspec": {
   "display_name": "Python 3",
   "language": "python",
   "name": "python3"
  },
  "language_info": {
   "codemirror_mode": {
    "name": "ipython",
    "version": 3
   },
   "file_extension": ".py",
   "mimetype": "text/x-python",
   "name": "python",
   "nbconvert_exporter": "python",
   "pygments_lexer": "ipython3",
   "version": "3.8.5"
  }
 },
 "nbformat": 4,
 "nbformat_minor": 4
}
