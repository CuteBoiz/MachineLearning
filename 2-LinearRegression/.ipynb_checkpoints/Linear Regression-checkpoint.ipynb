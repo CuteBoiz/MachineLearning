{
 "cells": [
  {
   "cell_type": "markdown",
   "metadata": {},
   "source": [
    "## Basic Linear Regression"
   ]
  },
  {
   "cell_type": "markdown",
   "metadata": {},
   "source": [
    "## 1. Create dataset"
   ]
  },
  {
   "cell_type": "code",
   "execution_count": 1,
   "metadata": {},
   "outputs": [],
   "source": [
    "import os \n",
    "\n",
    "def mkdir_if_not_exist(path):\n",
    "    if not isinstance(path, str):\n",
    "        path = os.path.join(*path)\n",
    "    if not os.path.exists(path):\n",
    "        os.makedirs(path)"
   ]
  },
  {
   "cell_type": "code",
   "execution_count": 8,
   "metadata": {},
   "outputs": [],
   "source": [
    "import numpy as np\n",
    "\n",
    "data_file = '../data/LR1.csv'\n",
    "mkdir_if_not_exist('../data')\n",
    "\n",
    "x = np.array([147, 150, 153, 158, 163, 165, 168, 170, 173, 175, 178, 180, 183])\n",
    "y = np.array([49, 50, 51, 54, 58, 59, 60, 62, 63, 64, 66, 67, 68])\n",
    "\n",
    "\n",
    "\n",
    "with open (data_file, 'w') as f:\n",
    "    f.write('Height, Weight\\n')\n",
    "    for i in range(x.size):\n",
    "        str0 = '{},{}\\n'.format(x[i], y[i])\n",
    "        f.write(str0)"
   ]
  },
  {
   "cell_type": "markdown",
   "metadata": {},
   "source": [
    "## 2. Read dataset"
   ]
  },
  {
   "cell_type": "code",
   "execution_count": 12,
   "metadata": {},
   "outputs": [
    {
     "data": {
      "text/plain": [
       "(array([[147],\n",
       "        [150],\n",
       "        [153],\n",
       "        [158],\n",
       "        [163],\n",
       "        [165],\n",
       "        [168],\n",
       "        [170],\n",
       "        [173],\n",
       "        [175],\n",
       "        [178],\n",
       "        [180],\n",
       "        [183]]),\n",
       " array([49, 50, 51, 54, 58, 59, 60, 62, 63, 64, 66, 67, 68]))"
      ]
     },
     "execution_count": 12,
     "metadata": {},
     "output_type": "execute_result"
    }
   ],
   "source": [
    "import pandas as pd\n",
    "\n",
    "data_file = '../data/LR1.csv'\n",
    "data = pd.read_csv(data_file)\n",
    "inputs ,outputs = data.iloc[:, 0:1], data.iloc[:, -1]\n",
    "X, y= np.array(inputs.values), np.array(outputs.values)\n",
    "X, y"
   ]
  },
  {
   "cell_type": "markdown",
   "metadata": {},
   "source": [
    "## 3. Caculate Linear Regression"
   ]
  },
  {
   "cell_type": "markdown",
   "metadata": {},
   "source": [
    "*Add x0 to data (x0 = 1)* "
   ]
  },
  {
   "cell_type": "code",
   "execution_count": 13,
   "metadata": {},
   "outputs": [
    {
     "data": {
      "text/plain": [
       "array([[  1., 147.],\n",
       "       [  1., 150.],\n",
       "       [  1., 153.],\n",
       "       [  1., 158.],\n",
       "       [  1., 163.],\n",
       "       [  1., 165.],\n",
       "       [  1., 168.],\n",
       "       [  1., 170.],\n",
       "       [  1., 173.],\n",
       "       [  1., 175.],\n",
       "       [  1., 178.],\n",
       "       [  1., 180.],\n",
       "       [  1., 183.]])"
      ]
     },
     "execution_count": 13,
     "metadata": {},
     "output_type": "execute_result"
    }
   ],
   "source": [
    "Xbar = np.concatenate((np.ones((X.shape[0], 1)),X), axis=1)\n",
    "Xbar"
   ]
  },
  {
   "cell_type": "markdown",
   "metadata": {},
   "source": [
    "**w = pinv(XbarT.Xbar)x(Xbar.y)**"
   ]
  },
  {
   "cell_type": "code",
   "execution_count": 14,
   "metadata": {},
   "outputs": [
    {
     "data": {
      "text/plain": [
       "(array([[ 1.69874542e+01, -1.01635185e-01],\n",
       "        [-1.01635185e-01,  6.10844845e-04]]),\n",
       " array([   771., 129198.]))"
      ]
     },
     "execution_count": 14,
     "metadata": {},
     "output_type": "execute_result"
    }
   ],
   "source": [
    "A = np.linalg.pinv(np.dot(Xbar.T, Xbar))\n",
    "B = np.dot(Xbar.T, y)\n",
    "A, B"
   ]
  },
  {
   "cell_type": "code",
   "execution_count": 15,
   "metadata": {},
   "outputs": [
    {
     "data": {
      "text/plain": [
       "array([-33.73541021,   0.55920496])"
      ]
     },
     "execution_count": 15,
     "metadata": {},
     "output_type": "execute_result"
    }
   ],
   "source": [
    "w = np.dot(A, B)\n",
    "w"
   ]
  },
  {
   "cell_type": "markdown",
   "metadata": {},
   "source": [
    "## 4. Predict"
   ]
  },
  {
   "cell_type": "code",
   "execution_count": 17,
   "metadata": {},
   "outputs": [
    {
     "data": {
      "text/plain": [
       "(52.9413588948063, 55.73738370451929)"
      ]
     },
     "execution_count": 17,
     "metadata": {},
     "output_type": "execute_result"
    }
   ],
   "source": [
    "y1 = w[1]*155 + w[0] #predict weight for a person with 155cm height\n",
    "y2 = w[1]*160 + w[0] #predict weight for a person with 160cm height\n",
    "y1, y2"
   ]
  },
  {
   "cell_type": "markdown",
   "metadata": {},
   "source": [
    "## 5. LR with Scikit-learn"
   ]
  },
  {
   "cell_type": "code",
   "execution_count": 24,
   "metadata": {},
   "outputs": [
    {
     "data": {
      "text/plain": [
       "(-33.73541020580774, 0.5592049619396674)"
      ]
     },
     "execution_count": 24,
     "metadata": {},
     "output_type": "execute_result"
    }
   ],
   "source": [
    "from sklearn import datasets, linear_model\n",
    "\n",
    "regr = linear_model.LinearRegression()\n",
    "regr.fit(X, y)\n",
    "\n",
    "regr.intercept_, regr.coef_[0]"
   ]
  },
  {
   "cell_type": "code",
   "execution_count": null,
   "metadata": {},
   "outputs": [],
   "source": []
  }
 ],
 "metadata": {
  "kernelspec": {
   "display_name": "Python 3",
   "language": "python",
   "name": "python3"
  },
  "language_info": {
   "codemirror_mode": {
    "name": "ipython",
    "version": 3
   },
   "file_extension": ".py",
   "mimetype": "text/x-python",
   "name": "python",
   "nbconvert_exporter": "python",
   "pygments_lexer": "ipython3",
   "version": "3.8.5"
  }
 },
 "nbformat": 4,
 "nbformat_minor": 4
}
